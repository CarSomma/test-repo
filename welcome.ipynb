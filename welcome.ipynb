{
 "cells": [
  {
   "cell_type": "markdown",
   "metadata": {},
   "source": [
    "**Dear Malte**, \n",
    "\n",
    "it's Carmine who is writing from a markdow cell of welcome.ipynb jupyter notebook. It has been great to meeting you on the 6th March at Spiced.  "
   ]
  },
  {
   "cell_type": "code",
   "execution_count": 3,
   "metadata": {},
   "outputs": [
    {
     "name": "stdout",
     "output_type": "stream",
     "text": [
      "Hello Malte, Welcome to SPICED!\n"
     ]
    }
   ],
   "source": [
    "# This is a python code cell of a jupyter notebook. \n",
    "# It's handy because when you run it, you can check directly the output.\n",
    "# Line starting with hashtag are comment in python\n",
    "\n",
    "welcome_python_string = \"Hello Malte, Welcome to SPICED!\"\n",
    "print(welcome_python_string)"
   ]
  },
  {
   "cell_type": "markdown",
   "metadata": {},
   "source": []
  }
 ],
 "metadata": {
  "kernelspec": {
   "display_name": ".venv_test",
   "language": "python",
   "name": "python3"
  },
  "language_info": {
   "codemirror_mode": {
    "name": "ipython",
    "version": 3
   },
   "file_extension": ".py",
   "mimetype": "text/x-python",
   "name": "python",
   "nbconvert_exporter": "python",
   "pygments_lexer": "ipython3",
   "version": "3.11.3"
  }
 },
 "nbformat": 4,
 "nbformat_minor": 2
}
